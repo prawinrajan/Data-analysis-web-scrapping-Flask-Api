{
 "cells": [
  {
   "cell_type": "code",
   "execution_count": 10,
   "metadata": {},
   "outputs": [],
   "source": [
    "import requests\n",
    "from bs4 import BeautifulSoup\n",
    "import csv"
   ]
  },
  {
   "cell_type": "code",
   "execution_count": 19,
   "metadata": {},
   "outputs": [
    {
     "data": {
      "text/plain": [
       "86"
      ]
     },
     "execution_count": 19,
     "metadata": {},
     "output_type": "execute_result"
    }
   ],
   "source": [
    "f = open('dataFile.csv', 'w',newline='')\n",
    "fieldName=['URLs', 'Information Of the College', 'Courses and fees','Admission','review','department','Cut oFF']\n",
    "thewriter=csv.DictWriter(f,fieldnames=fieldName)\n",
    "thewriter.writeheader()"
   ]
  },
  {
   "cell_type": "code",
   "execution_count": 20,
   "metadata": {},
   "outputs": [],
   "source": [
    "basic_URL='https://collegedunia.com/btech-colleges'\n",
    "Main_page=requests.get(basic_URL)\n",
    "Main_soup = BeautifulSoup(Main_page.text,'html.parser')"
   ]
  },
  {
   "cell_type": "code",
   "execution_count": 21,
   "metadata": {},
   "outputs": [
    {
     "data": {
      "text/plain": [
       "['https://collegedunia.com/university/25881-indian-institute-of-technology-madras-iitm-chennai',\n",
       " 'https://collegedunia.com/university/25455-indian-institute-of-technology-iit-new-delhi',\n",
       " 'https://collegedunia.com/university/25777-chandigarh-university-cu-chandigarh',\n",
       " 'https://collegedunia.com/university/25703-iit-bombay-indian-institute-of-technology-mumbai',\n",
       " 'https://collegedunia.com/university/26007-indian-institute-of-technology-iit-kharagpur',\n",
       " 'https://collegedunia.com/university/25948-indian-institute-of-technology-iit-kanpur',\n",
       " 'https://collegedunia.com/university/25992-indian-institute-of-technology-iit-roorkee',\n",
       " 'https://collegedunia.com/university/25800-birla-institute-of-technology-and-science-bits-pilani',\n",
       " 'https://collegedunia.com/university/25833-nims-university-jaipur',\n",
       " 'https://collegedunia.com/university/25396-indian-institute-of-technology-iit-guwahati',\n",
       " 'https://collegedunia.com/university/25356-indian-institute-of-technology-iit-hyderabad',\n",
       " 'https://collegedunia.com/college/28261-college-of-engineering-anna-university-ceg-chennai',\n",
       " 'https://collegedunia.com/university/25879-hindustan-institute-of-technology-and-science-hits-chennai',\n",
       " 'https://collegedunia.com/university/25889-nit-trichy-tiruchirappalli',\n",
       " 'https://collegedunia.com/college/59262-school-of-aeronautics-soa-new-delhi',\n",
       " 'https://collegedunia.com/university/25947-indian-institute-of-technology-iit-bhu-varanasi',\n",
       " 'https://collegedunia.com/university/25642-indian-institute-of-space-science-and-technology-iist-thiruvananthapuram',\n",
       " 'https://collegedunia.com/university/25705-institute-of-chemical-technology-ict-mumbai',\n",
       " 'https://collegedunia.com/university/25666-indian-institute-of-technology-iit-indore',\n",
       " 'https://collegedunia.com/university/26008-jadavpur-university-ju-kolkata',\n",
       " 'https://collegedunia.com/university/25581-indian-institute-of-technology-iit-dhanbad',\n",
       " 'https://collegedunia.com/university/24260-national-institute-of-technology-nit-rourkela',\n",
       " 'https://collegedunia.com/university/25759-indian-institute-of-technology-iit-bhubaneswar',\n",
       " 'https://collegedunia.com/university/25914-vellore-institute-of-technology-vit-university-vellore',\n",
       " 'https://collegedunia.com/university/28330-indian-institute-of-engineering-science-and-technology-iiest-shibpur-howrah',\n",
       " 'https://collegedunia.com/university/25559-indian-institute-of-technology-iit-mandi',\n",
       " 'https://collegedunia.com/university/25620-national-institute-of-technology-nitk-surathkal',\n",
       " 'https://collegedunia.com/university/25409-indian-institute-of-technology-iit-patna',\n",
       " 'https://collegedunia.com/university/25795-thapar-institute-of-engineering-and-technology-thapar-patiala',\n",
       " 'https://collegedunia.com/university/25495-indian-institute-of-technology-iit-gandhi-nagar',\n",
       " 'https://collegedunia.com/university/25367-national-institute-of-technology-nit-warangal',\n",
       " 'https://collegedunia.com/university/25460-jamia-millia-islamia-universityjmi-new-delhi',\n",
       " 'https://collegedunia.com/university/25651-national-institute-of-technology-nitc-calicut',\n",
       " 'https://collegedunia.com/university/25786-indian-institute-of-technology-iit-ropar']"
      ]
     },
     "execution_count": 21,
     "metadata": {},
     "output_type": "execute_result"
    }
   ],
   "source": [
    "get_all_colleges_link=[]\n",
    "\n",
    "for node in Main_soup.findAll('a',class_='college_name'):\n",
    "    link=node[\"href\"]\n",
    "    get_all_colleges_link.append(node[\"href\"])\n",
    "    thewriter.writerow({'URLs':link})\n",
    "    \n",
    "    \n",
    "get_all_colleges_link"
   ]
  },
  {
   "cell_type": "code",
   "execution_count": 23,
   "metadata": {},
   "outputs": [],
   "source": [
    "Info_of_college=[];Course_and_Fees=[];review=[];cutoff=[];department=[];admissionData=[]"
   ]
  },
  {
   "cell_type": "code",
   "execution_count": 24,
   "metadata": {},
   "outputs": [],
   "source": [
    "# Get Infomation and Departments of college\n",
    "save_data=[]\n",
    "def Info_and_Department(url):\n",
    "    page=requests.get(url)\n",
    "    soup = BeautifulSoup(page.text,'html.parser')\n",
    "    rows=soup.find_all(\"div\", class_=\"content-side\")\n",
    "    for row in rows:\n",
    "        Info_of_college.append(row.get_text())\n",
    "        thewriter.writerow({'Information Of the College':row.get_text()})\n",
    "        \n",
    "    department_row=soup.find_all(\"div\",class_=\"courses\")\n",
    "    if department_row is None:\n",
    "        department_row=soup.find_all(\"div\",class_=\"cdcms_courses\")\n",
    "        if department_row is None:\n",
    "            department_row=soup.find_all(\"div\",class_=\"table\")\n",
    "            if department_row is None:\n",
    "                department_row=\"\"\n",
    "            else:\n",
    "                for row in department_row:\n",
    "                    department.append(row.get_text())\n",
    "                    thewriter.writerow({'department':row.get_text()})\n",
    "        else:\n",
    "            for row in department_row:\n",
    "                department.append(row.get_text()) \n",
    "                thewriter.writerow({'department':row.get_text()})\n",
    "    else:\n",
    "        for row in department_row:\n",
    "            department.append(row.get_text())\n",
    "            thewriter.writerow({'department':row.get_text()})"
   ]
  },
  {
   "cell_type": "code",
   "execution_count": 25,
   "metadata": {},
   "outputs": [],
   "source": [
    "for i in get_all_colleges_link:\n",
    "    Info_and_Department(i)"
   ]
  },
  {
   "cell_type": "code",
   "execution_count": 26,
   "metadata": {},
   "outputs": [],
   "source": [
    "# course and fee of college\n",
    "def Course_and_Fee(url):\n",
    "    page=requests.get(url+\"/courses-fees\")\n",
    "    if page.status_code == 200:\n",
    "        soup = BeautifulSoup(page.text,'html.parser')\n",
    "        rows=soup.find_all(\"table\", class_=\"table table-striped\")\n",
    "        for row in rows:\n",
    "            Course_and_Fees.append(row.get_text())\n",
    "            thewriter.writerow({'Courses and fees':row.get_text()})\n",
    "            "
   ]
  },
  {
   "cell_type": "code",
   "execution_count": 27,
   "metadata": {},
   "outputs": [],
   "source": [
    "for CF in get_all_colleges_link:\n",
    "    Course_and_Fee(CF)"
   ]
  },
  {
   "cell_type": "code",
   "execution_count": 28,
   "metadata": {},
   "outputs": [],
   "source": [
    "# admission of college\n",
    "\n",
    "def DetailsOfAdmission(url):\n",
    "    page=requests.get(url+\"/admission\")\n",
    "    if page.status_code == 200:\n",
    "        soup = BeautifulSoup(page.text,'html.parser')\n",
    "        rows=soup.find_all(\"div\", class_=\"content_body wrap_body\")\n",
    "        for row in rows:\n",
    "            admissionData.append(row.get_text())\n",
    "            thewriter.writerow({'Admission':row.get_text()})"
   ]
  },
  {
   "cell_type": "code",
   "execution_count": 29,
   "metadata": {},
   "outputs": [],
   "source": [
    "for admi in get_all_colleges_link:\n",
    "    DetailsOfAdmission(admi)"
   ]
  },
  {
   "cell_type": "code",
   "execution_count": 30,
   "metadata": {},
   "outputs": [],
   "source": [
    "# Review of college\n",
    "def ReviewDetails(url):\n",
    "    page=requests.get(url+\"/reviews\")\n",
    "    if page.status_code == 200:\n",
    "        soup = BeautifulSoup(page.text,'html.parser')\n",
    "        rows=soup.find_all(\"div\", class_=\"content_body content_pad\")\n",
    "        for row in rows:\n",
    "            review.append(row.get_text())\n",
    "            thewriter.writerow({'review':row.get_text()})"
   ]
  },
  {
   "cell_type": "code",
   "execution_count": 31,
   "metadata": {},
   "outputs": [],
   "source": [
    "for re in get_all_colleges_link:\n",
    "    ReviewDetails(re)"
   ]
  },
  {
   "cell_type": "code",
   "execution_count": 32,
   "metadata": {},
   "outputs": [],
   "source": [
    "#cutoff \n",
    "\n",
    "def CutOffDetails(url):\n",
    "    \n",
    "    page=requests.get(url+\"/cutoff\")\n",
    "    if page.status_code == 200:\n",
    "            soup = BeautifulSoup(page.text,'html.parser')\n",
    "            rows=soup.find_all(\"table\", class_=\" table table-striped style_table\")\n",
    "            if rows is None:\n",
    "                rows=soup.find_all(\"table\", class_=\"table table-striped dates_table\")\n",
    "                for row in rows:\n",
    "                    cutoff.append(row.get_text())\n",
    "                    thewriter.writerow({'Cut oFF':row.get_text()})\n",
    "            else:\n",
    "                for row in rows:\n",
    "                    cutoff.append(row.get_text())\n",
    "                    thewriter.writerow({'Cut oFF':row.get_text()})"
   ]
  },
  {
   "cell_type": "code",
   "execution_count": 33,
   "metadata": {},
   "outputs": [],
   "source": [
    "for cutoff in get_all_colleges_link:\n",
    "    CutOffDetails(cutoff)"
   ]
  },
  {
   "cell_type": "code",
   "execution_count": 34,
   "metadata": {},
   "outputs": [],
   "source": [
    "f.close()"
   ]
  },
  {
   "cell_type": "code",
   "execution_count": null,
   "metadata": {},
   "outputs": [],
   "source": []
  }
 ],
 "metadata": {
  "kernelspec": {
   "display_name": "Python 3",
   "language": "python",
   "name": "python3"
  },
  "language_info": {
   "codemirror_mode": {
    "name": "ipython",
    "version": 3
   },
   "file_extension": ".py",
   "mimetype": "text/x-python",
   "name": "python",
   "nbconvert_exporter": "python",
   "pygments_lexer": "ipython3",
   "version": "3.8.5"
  }
 },
 "nbformat": 4,
 "nbformat_minor": 4
}
