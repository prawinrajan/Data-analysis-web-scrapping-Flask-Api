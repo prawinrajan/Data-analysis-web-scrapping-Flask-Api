{
 "cells": [
  {
   "cell_type": "code",
   "execution_count": 1,
   "metadata": {},
   "outputs": [
    {
     "name": "stderr",
     "output_type": "stream",
     "text": [
      "<ipython-input-1-831639f283db>:5: FutureWarning: The Panel class is removed from pandas. Accessing it from the top-level namespace will also be removed in the next version\n",
      "  from pandas import Series, DataFrame, Panel\n"
     ]
    }
   ],
   "source": [
    "import pandas as pd \n",
    "from IPython.display import HTML\n",
    "import numpy as np\n",
    "\n",
    "from pandas import Series, DataFrame, Panel"
   ]
  },
  {
   "cell_type": "code",
   "execution_count": 2,
   "metadata": {},
   "outputs": [],
   "source": [
    "#read data\n",
    "dataset = pd.read_csv('/home/prawin/employee .csv')"
   ]
  },
  {
   "cell_type": "code",
   "execution_count": 3,
   "metadata": {},
   "outputs": [
    {
     "data": {
      "text/html": [
       "<table border=\"1\" class=\"dataframe\">\n",
       "  <thead>\n",
       "    <tr style=\"text-align: right;\">\n",
       "      <th></th>\n",
       "      <th>Age</th>\n",
       "      <th>Attrition</th>\n",
       "      <th>BusinessTravel</th>\n",
       "      <th>DailyRate</th>\n",
       "      <th>Department</th>\n",
       "      <th>DistanceFromHome</th>\n",
       "      <th>Education</th>\n",
       "      <th>EducationField</th>\n",
       "      <th>EmployeeCount</th>\n",
       "      <th>EmployeeNumber</th>\n",
       "      <th>EnvironmentSatisfaction</th>\n",
       "      <th>Gender</th>\n",
       "      <th>HourlyRate</th>\n",
       "      <th>JobInvolvement</th>\n",
       "      <th>JobLevel</th>\n",
       "      <th>JobRole</th>\n",
       "      <th>JobSatisfaction</th>\n",
       "      <th>MaritalStatus</th>\n",
       "      <th>MonthlyIncome</th>\n",
       "      <th>MonthlyRate</th>\n",
       "      <th>NumCompaniesWorked</th>\n",
       "      <th>Over18</th>\n",
       "      <th>OverTime</th>\n",
       "      <th>PercentSalaryHike</th>\n",
       "      <th>PerformanceRating</th>\n",
       "      <th>RelationshipSatisfaction</th>\n",
       "      <th>StandardHours</th>\n",
       "      <th>StockOptionLevel</th>\n",
       "      <th>TotalWorkingYears</th>\n",
       "      <th>TrainingTimesLastYear</th>\n",
       "      <th>WorkLifeBalance</th>\n",
       "      <th>YearsAtCompany</th>\n",
       "      <th>YearsInCurrentRole</th>\n",
       "      <th>YearsSinceLastPromotion</th>\n",
       "      <th>YearsWithCurrManager</th>\n",
       "    </tr>\n",
       "  </thead>\n",
       "  <tbody>\n",
       "    <tr>\n",
       "      <th>0</th>\n",
       "      <td>41</td>\n",
       "      <td>Yes</td>\n",
       "      <td>Travel_Rarely</td>\n",
       "      <td>1102</td>\n",
       "      <td>Sales</td>\n",
       "      <td>1</td>\n",
       "      <td>2</td>\n",
       "      <td>Life Sciences</td>\n",
       "      <td>1</td>\n",
       "      <td>1</td>\n",
       "      <td>2</td>\n",
       "      <td>Female</td>\n",
       "      <td>94</td>\n",
       "      <td>3</td>\n",
       "      <td>2</td>\n",
       "      <td>Sales Executive</td>\n",
       "      <td>4</td>\n",
       "      <td>Single</td>\n",
       "      <td>5993</td>\n",
       "      <td>19479</td>\n",
       "      <td>8</td>\n",
       "      <td>Y</td>\n",
       "      <td>Yes</td>\n",
       "      <td>11</td>\n",
       "      <td>3</td>\n",
       "      <td>1</td>\n",
       "      <td>80</td>\n",
       "      <td>0</td>\n",
       "      <td>8</td>\n",
       "      <td>0</td>\n",
       "      <td>1</td>\n",
       "      <td>6</td>\n",
       "      <td>4</td>\n",
       "      <td>0</td>\n",
       "      <td>5</td>\n",
       "    </tr>\n",
       "    <tr>\n",
       "      <th>1</th>\n",
       "      <td>49</td>\n",
       "      <td>No</td>\n",
       "      <td>Travel_Frequently</td>\n",
       "      <td>279</td>\n",
       "      <td>Research &amp; Development</td>\n",
       "      <td>8</td>\n",
       "      <td>1</td>\n",
       "      <td>Life Sciences</td>\n",
       "      <td>1</td>\n",
       "      <td>2</td>\n",
       "      <td>3</td>\n",
       "      <td>Male</td>\n",
       "      <td>61</td>\n",
       "      <td>2</td>\n",
       "      <td>2</td>\n",
       "      <td>Research Scientist</td>\n",
       "      <td>2</td>\n",
       "      <td>Married</td>\n",
       "      <td>5130</td>\n",
       "      <td>24907</td>\n",
       "      <td>1</td>\n",
       "      <td>Y</td>\n",
       "      <td>No</td>\n",
       "      <td>23</td>\n",
       "      <td>4</td>\n",
       "      <td>4</td>\n",
       "      <td>80</td>\n",
       "      <td>1</td>\n",
       "      <td>10</td>\n",
       "      <td>3</td>\n",
       "      <td>3</td>\n",
       "      <td>10</td>\n",
       "      <td>7</td>\n",
       "      <td>1</td>\n",
       "      <td>7</td>\n",
       "    </tr>\n",
       "    <tr>\n",
       "      <th>2</th>\n",
       "      <td>37</td>\n",
       "      <td>Yes</td>\n",
       "      <td>Travel_Rarely</td>\n",
       "      <td>1373</td>\n",
       "      <td>Research &amp; Development</td>\n",
       "      <td>2</td>\n",
       "      <td>2</td>\n",
       "      <td>Other</td>\n",
       "      <td>1</td>\n",
       "      <td>4</td>\n",
       "      <td>4</td>\n",
       "      <td>Male</td>\n",
       "      <td>92</td>\n",
       "      <td>2</td>\n",
       "      <td>1</td>\n",
       "      <td>Laboratory Technician</td>\n",
       "      <td>3</td>\n",
       "      <td>Single</td>\n",
       "      <td>2090</td>\n",
       "      <td>2396</td>\n",
       "      <td>6</td>\n",
       "      <td>Y</td>\n",
       "      <td>Yes</td>\n",
       "      <td>15</td>\n",
       "      <td>3</td>\n",
       "      <td>2</td>\n",
       "      <td>80</td>\n",
       "      <td>0</td>\n",
       "      <td>7</td>\n",
       "      <td>3</td>\n",
       "      <td>3</td>\n",
       "      <td>0</td>\n",
       "      <td>0</td>\n",
       "      <td>0</td>\n",
       "      <td>0</td>\n",
       "    </tr>\n",
       "    <tr>\n",
       "      <th>3</th>\n",
       "      <td>33</td>\n",
       "      <td>No</td>\n",
       "      <td>Travel_Frequently</td>\n",
       "      <td>1392</td>\n",
       "      <td>Research &amp; Development</td>\n",
       "      <td>3</td>\n",
       "      <td>4</td>\n",
       "      <td>Life Sciences</td>\n",
       "      <td>1</td>\n",
       "      <td>5</td>\n",
       "      <td>4</td>\n",
       "      <td>Female</td>\n",
       "      <td>56</td>\n",
       "      <td>3</td>\n",
       "      <td>1</td>\n",
       "      <td>Research Scientist</td>\n",
       "      <td>3</td>\n",
       "      <td>Married</td>\n",
       "      <td>2909</td>\n",
       "      <td>23159</td>\n",
       "      <td>1</td>\n",
       "      <td>Y</td>\n",
       "      <td>Yes</td>\n",
       "      <td>11</td>\n",
       "      <td>3</td>\n",
       "      <td>3</td>\n",
       "      <td>80</td>\n",
       "      <td>0</td>\n",
       "      <td>8</td>\n",
       "      <td>3</td>\n",
       "      <td>3</td>\n",
       "      <td>8</td>\n",
       "      <td>7</td>\n",
       "      <td>3</td>\n",
       "      <td>0</td>\n",
       "    </tr>\n",
       "    <tr>\n",
       "      <th>4</th>\n",
       "      <td>27</td>\n",
       "      <td>No</td>\n",
       "      <td>Travel_Rarely</td>\n",
       "      <td>591</td>\n",
       "      <td>Research &amp; Development</td>\n",
       "      <td>2</td>\n",
       "      <td>1</td>\n",
       "      <td>Medical</td>\n",
       "      <td>1</td>\n",
       "      <td>7</td>\n",
       "      <td>1</td>\n",
       "      <td>Male</td>\n",
       "      <td>40</td>\n",
       "      <td>3</td>\n",
       "      <td>1</td>\n",
       "      <td>Laboratory Technician</td>\n",
       "      <td>2</td>\n",
       "      <td>Married</td>\n",
       "      <td>3468</td>\n",
       "      <td>16632</td>\n",
       "      <td>9</td>\n",
       "      <td>Y</td>\n",
       "      <td>No</td>\n",
       "      <td>12</td>\n",
       "      <td>3</td>\n",
       "      <td>4</td>\n",
       "      <td>80</td>\n",
       "      <td>1</td>\n",
       "      <td>6</td>\n",
       "      <td>3</td>\n",
       "      <td>3</td>\n",
       "      <td>2</td>\n",
       "      <td>2</td>\n",
       "      <td>2</td>\n",
       "      <td>2</td>\n",
       "    </tr>\n",
       "  </tbody>\n",
       "</table>"
      ],
      "text/plain": [
       "<IPython.core.display.HTML object>"
      ]
     },
     "execution_count": 3,
     "metadata": {},
     "output_type": "execute_result"
    }
   ],
   "source": [
    "HTML(dataset.head().to_html())"
   ]
  },
  {
   "cell_type": "code",
   "execution_count": 4,
   "metadata": {},
   "outputs": [
    {
     "data": {
      "text/plain": [
       "array(['Life Sciences', 'Other', 'Medical', 'Marketing',\n",
       "       'Technical Degree', 'Human Resources'], dtype=object)"
      ]
     },
     "execution_count": 4,
     "metadata": {},
     "output_type": "execute_result"
    }
   ],
   "source": [
    "# Name of the Unique departments\n",
    "dataset.EducationField.unique()"
   ]
  },
  {
   "cell_type": "code",
   "execution_count": 5,
   "metadata": {},
   "outputs": [],
   "source": [
    "df = DataFrame(dict(\n",
    "    EducationField=dataset.EducationField,\n",
    "    HourlyRate=dataset.HourlyRate,\n",
    "    JobRole=dataset.JobRole,\n",
    "    PerformanceRating=dataset.PerformanceRating,\n",
    "    ))"
   ]
  },
  {
   "cell_type": "code",
   "execution_count": 6,
   "metadata": {},
   "outputs": [
    {
     "data": {
      "text/plain": [
       "100"
      ]
     },
     "execution_count": 6,
     "metadata": {},
     "output_type": "execute_result"
    }
   ],
   "source": [
    "#which categorie pepoles working more hours\n",
    "HourlyRatecolumn = df[\"HourlyRate\"]\n",
    "#max hourlyrate \n",
    "maxHourlyRatecolumn=HourlyRatecolumn.max()\n",
    "maxHourlyRatecolumn"
   ]
  },
  {
   "cell_type": "code",
   "execution_count": 7,
   "metadata": {},
   "outputs": [
    {
     "name": "stdout",
     "output_type": "stream",
     "text": [
      "Hourly rate\n",
      "Life science 7\n",
      "Other 2\n",
      "Medical 1\n",
      "Marketing 2\n",
      "Technical Degree 6\n",
      "Human Resources 1\n"
     ]
    }
   ],
   "source": [
    "# Life Sciences, which category pepoles working long time\n",
    "print(\"Hourly rate\")\n",
    "high_ourly_rate_in_Life_Sciences=df[(df.EducationField == \"Life Sciences\") & (df.HourlyRate == maxHourlyRatecolumn)]\n",
    "#count of records\n",
    "Total_countof_hourlyRate_in_LifeSciences= len(high_ourly_rate_in_Life_Sciences.axes[0])\n",
    "print(\"Life science\",Total_countof_hourlyRate_in_LifeSciences)\n",
    "\n",
    "high_ourly_rate_in_Other=df[(df.EducationField == \"Other\") & (df.HourlyRate == maxHourlyRatecolumn)]\n",
    "#count of records\n",
    "Total_countof_hourlyRate_in_Other= len(high_ourly_rate_in_Other.axes[0])\n",
    "print(\"Other\",Total_countof_hourlyRate_in_Other)\n",
    "\n",
    "\n",
    "high_ourly_rate_in_Medical=df[(df.EducationField == \"Medical\") & (df.HourlyRate == maxHourlyRatecolumn)]\n",
    "#count of records\n",
    "Total_countof_hourlyRate_in_Medical= len(high_ourly_rate_in_Medical.axes[0])\n",
    "print(\"Medical\",Total_countof_hourlyRate_in_Medical)\n",
    "\n",
    "high_ourly_rate_in_Marketing=df[(df.EducationField == \"Marketing\") & (df.HourlyRate == maxHourlyRatecolumn)]\n",
    "#count of records\n",
    "Total_countof_hourlyRate_in_Marketing= len(high_ourly_rate_in_Marketing.axes[0])\n",
    "print(\"Marketing\",Total_countof_hourlyRate_in_Marketing)\n",
    "\n",
    "high_ourly_rate_in_Technical_Degree=df[(df.EducationField == \"Technical Degree\") & (df.HourlyRate == maxHourlyRatecolumn)]\n",
    "#count of records\n",
    "Total_countof_hourlyRate_in_Technical_Degree= len(high_ourly_rate_in_Technical_Degree.axes[0])\n",
    "print(\"Technical Degree\",Total_countof_hourlyRate_in_Technical_Degree)\n",
    "\n",
    "high_ourly_rate_in_Human_Resources=df[(df.EducationField == \"Human Resources\") & (df.HourlyRate == maxHourlyRatecolumn)]\n",
    "#count of records\n",
    "Total_countof_hourlyRate_in_Human_Resources= len(high_ourly_rate_in_Human_Resources.axes[0])\n",
    "print(\"Human Resources\",Total_countof_hourlyRate_in_Human_Resources)"
   ]
  },
  {
   "cell_type": "code",
   "execution_count": 8,
   "metadata": {},
   "outputs": [
    {
     "data": {
      "text/plain": [
       "4"
      ]
     },
     "execution_count": 8,
     "metadata": {},
     "output_type": "execute_result"
    }
   ],
   "source": [
    "#which categorie pepoles working more hours\n",
    "PerformanceRatingcolumn = df[\"PerformanceRating\"]\n",
    "#max hourlyrate \n",
    "maxPerformanceRatingcolumn=PerformanceRatingcolumn.max()\n",
    "maxPerformanceRatingcolumn"
   ]
  },
  {
   "cell_type": "code",
   "execution_count": 9,
   "metadata": {
    "scrolled": true
   },
   "outputs": [
    {
     "name": "stdout",
     "output_type": "stream",
     "text": [
      "PerformanceRating\n",
      "Life science 96\n",
      "Other 14\n",
      "Medical 75\n",
      "Marketing 21\n",
      "Technical Degree 17\n",
      "Human Resources 3\n"
     ]
    }
   ],
   "source": [
    "# Life Sciences, which category pepoles working long time\n",
    "print(\"PerformanceRating\")\n",
    "PerformanceRating_in_Life_Sciences=df[(df.EducationField == \"Life Sciences\") & (df.PerformanceRating == maxPerformanceRatingcolumn)]\n",
    "#count of records\n",
    "Total_countof_PerformanceRating_in_LifeSciences= len(PerformanceRating_in_Life_Sciences.axes[0])\n",
    "print(\"Life science\",Total_countof_PerformanceRating_in_LifeSciences)\n",
    "\n",
    "PerformanceRating_in_Other=df[(df.EducationField == \"Other\") & (df.PerformanceRating == maxPerformanceRatingcolumn)]\n",
    "#count of records\n",
    "Total_countof_PerformanceRating_in_Other= len(PerformanceRating_in_Other.axes[0])\n",
    "print(\"Other\",Total_countof_PerformanceRating_in_Other)\n",
    "\n",
    "\n",
    "PerformanceRating_rate_in_Medical=df[(df.EducationField == \"Medical\") & (df.PerformanceRating == maxPerformanceRatingcolumn)]\n",
    "#count of records\n",
    "Total_countof_PerformanceRating_in_Medical= len(PerformanceRating_rate_in_Medical.axes[0])\n",
    "print(\"Medical\",Total_countof_PerformanceRating_in_Medical)\n",
    "\n",
    "PerformanceRating_in_Marketing=df[(df.EducationField == \"Marketing\") & (df.PerformanceRating == maxPerformanceRatingcolumn)]\n",
    "#count of records\n",
    "Total_countof_PerformanceRating_in_Marketing= len(PerformanceRating_in_Marketing.axes[0])\n",
    "print(\"Marketing\",Total_countof_PerformanceRating_in_Marketing)\n",
    "\n",
    "PerformanceRating_in_Technical_Degree=df[(df.EducationField == \"Technical Degree\") & (df.PerformanceRating == maxPerformanceRatingcolumn)]\n",
    "#count of records\n",
    "Total_countof_PerformanceRatingin_Technical_Degree= len(PerformanceRating_in_Technical_Degree.axes[0])\n",
    "print(\"Technical Degree\",Total_countof_PerformanceRatingin_Technical_Degree)\n",
    "\n",
    "PerformanceRating_in_Human_Resources=df[(df.EducationField == \"Human Resources\") & (df.PerformanceRating == maxPerformanceRatingcolumn)]\n",
    "#count of records\n",
    "Total_countof_PerformanceRating_in_Human_Resources= len(PerformanceRating_in_Human_Resources.axes[0])\n",
    "print(\"Human Resources\",Total_countof_PerformanceRating_in_Human_Resources)"
   ]
  },
  {
   "cell_type": "code",
   "execution_count": 11,
   "metadata": {},
   "outputs": [
    {
     "data": {
      "image/png": "[encoded data removed]",
      "text/plain": [
       "<Figure size 432x288 with 1 Axes>"
      ]
     },
     "metadata": {
      "needs_background": "light"
     },
     "output_type": "display_data"
    }
   ],
   "source": [
    "import matplotlib\n",
    "import matplotlib.pyplot as plt\n",
    "import numpy as np\n",
    "\n",
    "\n",
    "labels = ['Life science', 'Other','Medical','Marketing','Technical Degree','Human Resources']\n",
    "HourlyRate = [Total_countof_hourlyRate_in_LifeSciences,\n",
    "              Total_countof_hourlyRate_in_Other,\n",
    "              Total_countof_hourlyRate_in_Medical,\n",
    "              Total_countof_hourlyRate_in_Marketing,\n",
    "              Total_countof_hourlyRate_in_Technical_Degree,\n",
    "              Total_countof_hourlyRate_in_Human_Resources]\n",
    "\n",
    "PerformanceRating = [Total_countof_PerformanceRating_in_LifeSciences,\n",
    "              Total_countof_PerformanceRating_in_Other,\n",
    "              Total_countof_PerformanceRating_in_Medical,\n",
    "              Total_countof_PerformanceRating_in_Marketing,\n",
    "              Total_countof_PerformanceRatingin_Technical_Degree,\n",
    "              Total_countof_PerformanceRating_in_Human_Resources]\n",
    "\n",
    "x = np.arange(len(labels))  # the label locations\n",
    "width = 0.35  # the width of the bars\n",
    "\n",
    "fig, ax = plt.subplots()\n",
    "rects1 = ax.bar(x - width/2, HourlyRate, width, label='HourlyRate')\n",
    "rects2 = ax.bar(x + width/2, PerformanceRating, width, label='PerformanceRating')\n",
    "\n",
    "# Add some text for labels, title and custom x-axis tick labels, etc.\n",
    "ax.set_ylabel('rating')\n",
    "ax.set_title('comparison of Hourlyrating and PerformanceRating based on education field')\n",
    "ax.set_xticks(x)\n",
    "ax.set_xticklabels(labels)\n",
    "ax.legend()\n",
    "\n",
    "\n",
    "def autolabel(rects):\n",
    "    \"\"\"Attach a text label above each bar in *rects*, displaying its height.\"\"\"\n",
    "    for rect in rects:\n",
    "        height = rect.get_height()\n",
    "        ax.annotate('{}'.format(height),\n",
    "                    xy=(rect.get_x() + rect.get_width() / 2, height),\n",
    "                    xytext=(0, 3),  # 3 points vertical offset\n",
    "                    textcoords=\"offset points\",\n",
    "                    ha='center', va='bottom')\n",
    "\n",
    "\n",
    "autolabel(rects1)\n",
    "autolabel(rects2)\n",
    "\n",
    "fig.tight_layout()\n",
    "plt.savefig('which_backgroung_pepoles_working_efficiently.pdf') \n",
    "plt.show()"
   ]
  },
  {
   "cell_type": "code",
   "execution_count": null,
   "metadata": {},
   "outputs": [],
   "source": []
  }
 ],
 "metadata": {
  "kernelspec": {
   "display_name": "Python 3",
   "language": "python",
   "name": "python3"
  },
  "language_info": {
   "codemirror_mode": {
    "name": "ipython",
    "version": 3
   },
   "file_extension": ".py",
   "mimetype": "text/x-python",
   "name": "python",
   "nbconvert_exporter": "python",
   "pygments_lexer": "ipython3",
   "version": "3.8.5"
  }
 },
 "nbformat": 4,
 "nbformat_minor": 4
}
